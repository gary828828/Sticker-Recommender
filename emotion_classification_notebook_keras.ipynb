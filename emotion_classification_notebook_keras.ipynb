{
 "cells": [
  {
   "cell_type": "markdown",
   "metadata": {},
   "source": [
    "Perform the necessary imports"
   ]
  },
  {
   "cell_type": "code",
   "execution_count": 123,
   "metadata": {},
   "outputs": [],
   "source": [
    "import numpy as np\n",
    "import pandas as pd\n",
    "import tensorflow as tf\n",
    "from tensorflow.python.keras.preprocessing import text, sequence\n",
    "from tensorflow.python.keras.models import Sequential\n",
    "from tensorflow.python.keras.layers import Embedding, Conv1D, GlobalMaxPooling1D, Activation, Dropout, Dense\n",
    "from sklearn.model_selection import train_test_split\n",
    "#import keras"
   ]
  },
  {
   "cell_type": "markdown",
   "metadata": {},
   "source": [
    "****************************************************************************************************"
   ]
  },
  {
   "cell_type": "markdown",
   "metadata": {},
   "source": [
    "So, here's what we'll do.\n",
    "\n",
    "1.Understand the data using visualization\n",
    "\n",
    "2.Use pandas to do data manipulation such as fill NaNs', drop redundant training examples, generate labels etc.,\n",
    "\n",
    "3.Convert the text into a sequence(list of lists(sequence)), using tokenizer. Pad the sequence to form a 2D numpy array.\n",
    "\n",
    "4.Build the Neural Network Model using Keras.\n",
    "\n",
    "5.Train the model using an optimizer such as 'adam' or 'adagrad' and loss function 'binary_crossentropy'. \n",
    "\n",
    "6.Start predicting!"
   ]
  },
  {
   "cell_type": "markdown",
   "metadata": {},
   "source": [
    "****************************************************************************************************"
   ]
  },
  {
   "cell_type": "markdown",
   "metadata": {},
   "source": [
    "1.Data visualization and \n",
    "2.Use pandas to do data manipulation such as fill NaNs', drop redundant training examples, generate labels etc.,"
   ]
  },
  {
   "cell_type": "code",
   "execution_count": 124,
   "metadata": {},
   "outputs": [
    {
     "data": {
      "text/html": [
       "<div>\n",
       "<style scoped>\n",
       "    .dataframe tbody tr th:only-of-type {\n",
       "        vertical-align: middle;\n",
       "    }\n",
       "\n",
       "    .dataframe tbody tr th {\n",
       "        vertical-align: top;\n",
       "    }\n",
       "\n",
       "    .dataframe thead th {\n",
       "        text-align: right;\n",
       "    }\n",
       "</style>\n",
       "<table border=\"1\" class=\"dataframe\">\n",
       "  <thead>\n",
       "    <tr style=\"text-align: right;\">\n",
       "      <th></th>\n",
       "      <th>tweet_id</th>\n",
       "      <th>sentiment</th>\n",
       "      <th>author</th>\n",
       "      <th>content</th>\n",
       "    </tr>\n",
       "  </thead>\n",
       "  <tbody>\n",
       "    <tr>\n",
       "      <th>0</th>\n",
       "      <td>1956967341</td>\n",
       "      <td>empty</td>\n",
       "      <td>xoshayzers</td>\n",
       "      <td>@tiffanylue i know  i was listenin to bad habi...</td>\n",
       "    </tr>\n",
       "    <tr>\n",
       "      <th>1</th>\n",
       "      <td>1956967666</td>\n",
       "      <td>sadness</td>\n",
       "      <td>wannamama</td>\n",
       "      <td>Layin n bed with a headache  ughhhh...waitin o...</td>\n",
       "    </tr>\n",
       "    <tr>\n",
       "      <th>2</th>\n",
       "      <td>1956967696</td>\n",
       "      <td>sadness</td>\n",
       "      <td>coolfunky</td>\n",
       "      <td>Funeral ceremony...gloomy friday...</td>\n",
       "    </tr>\n",
       "    <tr>\n",
       "      <th>3</th>\n",
       "      <td>1956967789</td>\n",
       "      <td>enthusiasm</td>\n",
       "      <td>czareaquino</td>\n",
       "      <td>wants to hang out with friends SOON!</td>\n",
       "    </tr>\n",
       "    <tr>\n",
       "      <th>4</th>\n",
       "      <td>1956968416</td>\n",
       "      <td>neutral</td>\n",
       "      <td>xkilljoyx</td>\n",
       "      <td>@dannycastillo We want to trade with someone w...</td>\n",
       "    </tr>\n",
       "  </tbody>\n",
       "</table>\n",
       "</div>"
      ],
      "text/plain": [
       "     tweet_id   sentiment       author  \\\n",
       "0  1956967341       empty   xoshayzers   \n",
       "1  1956967666     sadness    wannamama   \n",
       "2  1956967696     sadness    coolfunky   \n",
       "3  1956967789  enthusiasm  czareaquino   \n",
       "4  1956968416     neutral    xkilljoyx   \n",
       "\n",
       "                                             content  \n",
       "0  @tiffanylue i know  i was listenin to bad habi...  \n",
       "1  Layin n bed with a headache  ughhhh...waitin o...  \n",
       "2                Funeral ceremony...gloomy friday...  \n",
       "3               wants to hang out with friends SOON!  \n",
       "4  @dannycastillo We want to trade with someone w...  "
      ]
     },
     "execution_count": 124,
     "metadata": {},
     "output_type": "execute_result"
    }
   ],
   "source": [
    "df = pd.read_csv('text_emotion_train_val_set.csv')\n",
    "df.head()"
   ]
  },
  {
   "cell_type": "code",
   "execution_count": 125,
   "metadata": {},
   "outputs": [],
   "source": [
    "df = df.loc[df['sentiment'].isin(['happiness','sadness','surprise','hate','love'])]"
   ]
  },
  {
   "cell_type": "code",
   "execution_count": 126,
   "metadata": {},
   "outputs": [],
   "source": [
    "df['sentiment'] = df['sentiment'].replace(['happiness'], 'happy')\n",
    "df['sentiment'] = df['sentiment'].replace(['sadness'], 'sad')"
   ]
  },
  {
   "cell_type": "code",
   "execution_count": 127,
   "metadata": {},
   "outputs": [
    {
     "data": {
      "text/html": [
       "<div>\n",
       "<style scoped>\n",
       "    .dataframe tbody tr th:only-of-type {\n",
       "        vertical-align: middle;\n",
       "    }\n",
       "\n",
       "    .dataframe tbody tr th {\n",
       "        vertical-align: top;\n",
       "    }\n",
       "\n",
       "    .dataframe thead th {\n",
       "        text-align: right;\n",
       "    }\n",
       "</style>\n",
       "<table border=\"1\" class=\"dataframe\">\n",
       "  <thead>\n",
       "    <tr style=\"text-align: right;\">\n",
       "      <th></th>\n",
       "      <th>tweet_id</th>\n",
       "      <th>sentiment</th>\n",
       "      <th>author</th>\n",
       "      <th>content</th>\n",
       "    </tr>\n",
       "  </thead>\n",
       "  <tbody>\n",
       "    <tr>\n",
       "      <th>1</th>\n",
       "      <td>1956967666</td>\n",
       "      <td>sad</td>\n",
       "      <td>wannamama</td>\n",
       "      <td>Layin n bed with a headache  ughhhh...waitin o...</td>\n",
       "    </tr>\n",
       "    <tr>\n",
       "      <th>2</th>\n",
       "      <td>1956967696</td>\n",
       "      <td>sad</td>\n",
       "      <td>coolfunky</td>\n",
       "      <td>Funeral ceremony...gloomy friday...</td>\n",
       "    </tr>\n",
       "    <tr>\n",
       "      <th>6</th>\n",
       "      <td>1956968487</td>\n",
       "      <td>sad</td>\n",
       "      <td>ShansBee</td>\n",
       "      <td>I should be sleep, but im not! thinking about ...</td>\n",
       "    </tr>\n",
       "    <tr>\n",
       "      <th>8</th>\n",
       "      <td>1956969035</td>\n",
       "      <td>sad</td>\n",
       "      <td>nic0lepaula</td>\n",
       "      <td>@charviray Charlene my love. I miss you</td>\n",
       "    </tr>\n",
       "    <tr>\n",
       "      <th>9</th>\n",
       "      <td>1956969172</td>\n",
       "      <td>sad</td>\n",
       "      <td>Ingenue_Em</td>\n",
       "      <td>@kelcouch I'm sorry  at least it's Friday?</td>\n",
       "    </tr>\n",
       "    <tr>\n",
       "      <th>12</th>\n",
       "      <td>1956970047</td>\n",
       "      <td>sad</td>\n",
       "      <td>Danied32</td>\n",
       "      <td>Ugh! I have to beat this stupid song to get to...</td>\n",
       "    </tr>\n",
       "    <tr>\n",
       "      <th>13</th>\n",
       "      <td>1956970424</td>\n",
       "      <td>sad</td>\n",
       "      <td>Samm_xo</td>\n",
       "      <td>@BrodyJenner if u watch the hills in london u ...</td>\n",
       "    </tr>\n",
       "    <tr>\n",
       "      <th>14</th>\n",
       "      <td>1956970860</td>\n",
       "      <td>surprise</td>\n",
       "      <td>okiepeanut93</td>\n",
       "      <td>Got the news</td>\n",
       "    </tr>\n",
       "    <tr>\n",
       "      <th>15</th>\n",
       "      <td>1956971077</td>\n",
       "      <td>sad</td>\n",
       "      <td>Sim_34</td>\n",
       "      <td>The storm is here and the electricity is gone</td>\n",
       "    </tr>\n",
       "    <tr>\n",
       "      <th>16</th>\n",
       "      <td>1956971170</td>\n",
       "      <td>love</td>\n",
       "      <td>poppygallico</td>\n",
       "      <td>@annarosekerr agreed</td>\n",
       "    </tr>\n",
       "  </tbody>\n",
       "</table>\n",
       "</div>"
      ],
      "text/plain": [
       "      tweet_id sentiment        author  \\\n",
       "1   1956967666       sad     wannamama   \n",
       "2   1956967696       sad     coolfunky   \n",
       "6   1956968487       sad      ShansBee   \n",
       "8   1956969035       sad   nic0lepaula   \n",
       "9   1956969172       sad    Ingenue_Em   \n",
       "12  1956970047       sad      Danied32   \n",
       "13  1956970424       sad       Samm_xo   \n",
       "14  1956970860  surprise  okiepeanut93   \n",
       "15  1956971077       sad        Sim_34   \n",
       "16  1956971170      love  poppygallico   \n",
       "\n",
       "                                              content  \n",
       "1   Layin n bed with a headache  ughhhh...waitin o...  \n",
       "2                 Funeral ceremony...gloomy friday...  \n",
       "6   I should be sleep, but im not! thinking about ...  \n",
       "8             @charviray Charlene my love. I miss you  \n",
       "9          @kelcouch I'm sorry  at least it's Friday?  \n",
       "12  Ugh! I have to beat this stupid song to get to...  \n",
       "13  @BrodyJenner if u watch the hills in london u ...  \n",
       "14                                       Got the news  \n",
       "15      The storm is here and the electricity is gone  \n",
       "16                               @annarosekerr agreed  "
      ]
     },
     "execution_count": 127,
     "metadata": {},
     "output_type": "execute_result"
    }
   ],
   "source": [
    "df.head(10)"
   ]
  },
  {
   "cell_type": "code",
   "execution_count": 128,
   "metadata": {},
   "outputs": [
    {
     "name": "stdout",
     "output_type": "stream",
     "text": [
      "17726\n",
      "<class 'pandas.core.frame.DataFrame'>\n",
      "2\n",
      "(17726, 4)\n",
      "tweet_id      int64\n",
      "sentiment    object\n",
      "author       object\n",
      "content      object\n",
      "dtype: object\n",
      "70904\n"
     ]
    }
   ],
   "source": [
    "print(len(df))\n",
    "print(type(df))\n",
    "print(df.ndim)\n",
    "print(df.shape)\n",
    "print(df.dtypes)\n",
    "print(df.size)"
   ]
  },
  {
   "cell_type": "markdown",
   "metadata": {},
   "source": [
    "Dropping unnecessary layers that do not contribute to emotion classification"
   ]
  },
  {
   "cell_type": "code",
   "execution_count": 129,
   "metadata": {},
   "outputs": [],
   "source": [
    "df = df.drop(['tweet_id', 'author'], axis=1)"
   ]
  },
  {
   "cell_type": "code",
   "execution_count": 130,
   "metadata": {},
   "outputs": [
    {
     "data": {
      "text/html": [
       "<div>\n",
       "<style scoped>\n",
       "    .dataframe tbody tr th:only-of-type {\n",
       "        vertical-align: middle;\n",
       "    }\n",
       "\n",
       "    .dataframe tbody tr th {\n",
       "        vertical-align: top;\n",
       "    }\n",
       "\n",
       "    .dataframe thead th {\n",
       "        text-align: right;\n",
       "    }\n",
       "</style>\n",
       "<table border=\"1\" class=\"dataframe\">\n",
       "  <thead>\n",
       "    <tr style=\"text-align: right;\">\n",
       "      <th></th>\n",
       "      <th>sentiment</th>\n",
       "      <th>content</th>\n",
       "    </tr>\n",
       "  </thead>\n",
       "  <tbody>\n",
       "    <tr>\n",
       "      <th>1</th>\n",
       "      <td>sad</td>\n",
       "      <td>Layin n bed with a headache  ughhhh...waitin o...</td>\n",
       "    </tr>\n",
       "    <tr>\n",
       "      <th>2</th>\n",
       "      <td>sad</td>\n",
       "      <td>Funeral ceremony...gloomy friday...</td>\n",
       "    </tr>\n",
       "    <tr>\n",
       "      <th>6</th>\n",
       "      <td>sad</td>\n",
       "      <td>I should be sleep, but im not! thinking about ...</td>\n",
       "    </tr>\n",
       "    <tr>\n",
       "      <th>8</th>\n",
       "      <td>sad</td>\n",
       "      <td>@charviray Charlene my love. I miss you</td>\n",
       "    </tr>\n",
       "    <tr>\n",
       "      <th>9</th>\n",
       "      <td>sad</td>\n",
       "      <td>@kelcouch I'm sorry  at least it's Friday?</td>\n",
       "    </tr>\n",
       "  </tbody>\n",
       "</table>\n",
       "</div>"
      ],
      "text/plain": [
       "  sentiment                                            content\n",
       "1       sad  Layin n bed with a headache  ughhhh...waitin o...\n",
       "2       sad                Funeral ceremony...gloomy friday...\n",
       "6       sad  I should be sleep, but im not! thinking about ...\n",
       "8       sad            @charviray Charlene my love. I miss you\n",
       "9       sad         @kelcouch I'm sorry  at least it's Friday?"
      ]
     },
     "execution_count": 130,
     "metadata": {},
     "output_type": "execute_result"
    }
   ],
   "source": [
    "df.head()"
   ]
  },
  {
   "cell_type": "code",
   "execution_count": 131,
   "metadata": {},
   "outputs": [
    {
     "data": {
      "text/plain": [
       "(17726, 2)"
      ]
     },
     "execution_count": 131,
     "metadata": {},
     "output_type": "execute_result"
    }
   ],
   "source": [
    "df.shape"
   ]
  },
  {
   "cell_type": "markdown",
   "metadata": {},
   "source": [
    "Check the frequency/no. of times different emotions are labelled"
   ]
  },
  {
   "cell_type": "code",
   "execution_count": 133,
   "metadata": {},
   "outputs": [
    {
     "data": {
      "text/plain": [
       "happy       5209\n",
       "sad         5165\n",
       "love        3842\n",
       "surprise    2187\n",
       "hate        1323\n",
       "Name: sentiment, dtype: int64"
      ]
     },
     "execution_count": 133,
     "metadata": {},
     "output_type": "execute_result"
    }
   ],
   "source": [
    "df['sentiment'].value_counts()"
   ]
  },
  {
   "cell_type": "markdown",
   "metadata": {},
   "source": [
    "It is not a skewed data set for the 'sentiment' feature.\n",
    "Becasue 'sentiment' is not  a feature. It is the label(y)\n",
    "Plotting the above output as a bar graph"
   ]
  },
  {
   "cell_type": "code",
   "execution_count": 134,
   "metadata": {},
   "outputs": [
    {
     "data": {
      "text/plain": [
       "<matplotlib.axes._subplots.AxesSubplot at 0x141a33e10>"
      ]
     },
     "execution_count": 134,
     "metadata": {},
     "output_type": "execute_result"
    },
    {
     "data": {
      "image/png": "[encoded data removed]",
      "text/plain": [
       "<Figure size 432x288 with 1 Axes>"
      ]
     },
     "metadata": {
      "needs_background": "light"
     },
     "output_type": "display_data"
    }
   ],
   "source": [
    "df['sentiment'].value_counts().plot.bar()"
   ]
  },
  {
   "cell_type": "markdown",
   "metadata": {},
   "source": [
    "Plotting the same output for percentage visualization.\n",
    "It says that 21.5% of the data set are neutral features"
   ]
  },
  {
   "cell_type": "code",
   "execution_count": 135,
   "metadata": {},
   "outputs": [
    {
     "data": {
      "text/plain": [
       "happy       0.293862\n",
       "sad         0.291380\n",
       "love        0.216744\n",
       "surprise    0.123378\n",
       "hate        0.074636\n",
       "Name: sentiment, dtype: float64"
      ]
     },
     "execution_count": 135,
     "metadata": {},
     "output_type": "execute_result"
    }
   ],
   "source": [
    "df['sentiment'].value_counts() / len(df)"
   ]
  },
  {
   "cell_type": "code",
   "execution_count": 136,
   "metadata": {},
   "outputs": [
    {
     "data": {
      "text/plain": [
       "<matplotlib.axes._subplots.AxesSubplot at 0x141219860>"
      ]
     },
     "execution_count": 136,
     "metadata": {},
     "output_type": "execute_result"
    },
    {
     "data": {
      "image/png": "[encoded data removed]",
      "text/plain": [
       "<Figure size 432x288 with 1 Axes>"
      ]
     },
     "metadata": {
      "needs_background": "light"
     },
     "output_type": "display_data"
    }
   ],
   "source": [
    "(df['sentiment'].value_counts() / len(df)).plot.bar()"
   ]
  },
  {
   "cell_type": "code",
   "execution_count": 137,
   "metadata": {},
   "outputs": [
    {
     "data": {
      "text/plain": [
       "(array([], dtype=int64), array([], dtype=int64))"
      ]
     },
     "execution_count": 137,
     "metadata": {},
     "output_type": "execute_result"
    }
   ],
   "source": [
    "np.where(pd.isnull(df))"
   ]
  },
  {
   "cell_type": "markdown",
   "metadata": {},
   "source": [
    "Relieved that there isn't. "
   ]
  },
  {
   "cell_type": "markdown",
   "metadata": {},
   "source": [
    "the '.sample' method randomly shuffles the data frame. 'frac=1' indicates that the entire fraction of data is to be considered after shuffling. 'reset_index' resets the row indexes after shuffling. drop=True makes sure that the old index values are not retained in the data frrame."
   ]
  },
  {
   "cell_type": "code",
   "execution_count": 138,
   "metadata": {},
   "outputs": [
    {
     "name": "stdout",
     "output_type": "stream",
     "text": [
      "  sentiment                                            content\n",
      "1       sad  Layin n bed with a headache  ughhhh...waitin o...\n",
      "2       sad                Funeral ceremony...gloomy friday...\n",
      "6       sad  I should be sleep, but im not! thinking about ...\n",
      "8       sad            @charviray Charlene my love. I miss you\n",
      "9       sad         @kelcouch I'm sorry  at least it's Friday?\n",
      "(17726, 2)\n"
     ]
    },
    {
     "data": {
      "text/html": [
       "<div>\n",
       "<style scoped>\n",
       "    .dataframe tbody tr th:only-of-type {\n",
       "        vertical-align: middle;\n",
       "    }\n",
       "\n",
       "    .dataframe tbody tr th {\n",
       "        vertical-align: top;\n",
       "    }\n",
       "\n",
       "    .dataframe thead th {\n",
       "        text-align: right;\n",
       "    }\n",
       "</style>\n",
       "<table border=\"1\" class=\"dataframe\">\n",
       "  <thead>\n",
       "    <tr style=\"text-align: right;\">\n",
       "      <th></th>\n",
       "      <th>sentiment</th>\n",
       "      <th>content</th>\n",
       "    </tr>\n",
       "  </thead>\n",
       "  <tbody>\n",
       "    <tr>\n",
       "      <th>0</th>\n",
       "      <td>hate</td>\n",
       "      <td>only gets spam in her college email account no...</td>\n",
       "    </tr>\n",
       "    <tr>\n",
       "      <th>1</th>\n",
       "      <td>surprise</td>\n",
       "      <td>OMG...the heater in my room has been on all da...</td>\n",
       "    </tr>\n",
       "    <tr>\n",
       "      <th>2</th>\n",
       "      <td>love</td>\n",
       "      <td>@RachelleKOMO Very cute!  Don't miss out on pu...</td>\n",
       "    </tr>\n",
       "    <tr>\n",
       "      <th>3</th>\n",
       "      <td>hate</td>\n",
       "      <td>@mileycyrus my computer is being stupid and wo...</td>\n",
       "    </tr>\n",
       "    <tr>\n",
       "      <th>4</th>\n",
       "      <td>happy</td>\n",
       "      <td>fireworks @ KBOOM concert... second best I've ...</td>\n",
       "    </tr>\n",
       "  </tbody>\n",
       "</table>\n",
       "</div>"
      ],
      "text/plain": [
       "  sentiment                                            content\n",
       "0      hate  only gets spam in her college email account no...\n",
       "1  surprise  OMG...the heater in my room has been on all da...\n",
       "2      love  @RachelleKOMO Very cute!  Don't miss out on pu...\n",
       "3      hate  @mileycyrus my computer is being stupid and wo...\n",
       "4     happy  fireworks @ KBOOM concert... second best I've ..."
      ]
     },
     "execution_count": 138,
     "metadata": {},
     "output_type": "execute_result"
    }
   ],
   "source": [
    "print(df.head())\n",
    "df = df.sample(frac=1).reset_index(drop=True)\n",
    "print(df.shape)\n",
    "df.head()"
   ]
  },
  {
   "cell_type": "markdown",
   "metadata": {},
   "source": [
    "Generate labels from the data set column 'sentiment'"
   ]
  },
  {
   "cell_type": "code",
   "execution_count": 139,
   "metadata": {},
   "outputs": [
    {
     "name": "stdout",
     "output_type": "stream",
     "text": [
      "<class 'pandas.core.frame.DataFrame'>\n",
      "(17726, 5)\n",
      "2\n"
     ]
    },
    {
     "data": {
      "text/html": [
       "<div>\n",
       "<style scoped>\n",
       "    .dataframe tbody tr th:only-of-type {\n",
       "        vertical-align: middle;\n",
       "    }\n",
       "\n",
       "    .dataframe tbody tr th {\n",
       "        vertical-align: top;\n",
       "    }\n",
       "\n",
       "    .dataframe thead th {\n",
       "        text-align: right;\n",
       "    }\n",
       "</style>\n",
       "<table border=\"1\" class=\"dataframe\">\n",
       "  <thead>\n",
       "    <tr style=\"text-align: right;\">\n",
       "      <th></th>\n",
       "      <th>happy</th>\n",
       "      <th>hate</th>\n",
       "      <th>love</th>\n",
       "      <th>sad</th>\n",
       "      <th>surprise</th>\n",
       "    </tr>\n",
       "  </thead>\n",
       "  <tbody>\n",
       "    <tr>\n",
       "      <th>0</th>\n",
       "      <td>0</td>\n",
       "      <td>1</td>\n",
       "      <td>0</td>\n",
       "      <td>0</td>\n",
       "      <td>0</td>\n",
       "    </tr>\n",
       "    <tr>\n",
       "      <th>1</th>\n",
       "      <td>0</td>\n",
       "      <td>0</td>\n",
       "      <td>0</td>\n",
       "      <td>0</td>\n",
       "      <td>1</td>\n",
       "    </tr>\n",
       "    <tr>\n",
       "      <th>2</th>\n",
       "      <td>0</td>\n",
       "      <td>0</td>\n",
       "      <td>1</td>\n",
       "      <td>0</td>\n",
       "      <td>0</td>\n",
       "    </tr>\n",
       "    <tr>\n",
       "      <th>3</th>\n",
       "      <td>0</td>\n",
       "      <td>1</td>\n",
       "      <td>0</td>\n",
       "      <td>0</td>\n",
       "      <td>0</td>\n",
       "    </tr>\n",
       "    <tr>\n",
       "      <th>4</th>\n",
       "      <td>1</td>\n",
       "      <td>0</td>\n",
       "      <td>0</td>\n",
       "      <td>0</td>\n",
       "      <td>0</td>\n",
       "    </tr>\n",
       "  </tbody>\n",
       "</table>\n",
       "</div>"
      ],
      "text/plain": [
       "   happy  hate  love  sad  surprise\n",
       "0      0     1     0    0         0\n",
       "1      0     0     0    0         1\n",
       "2      0     0     1    0         0\n",
       "3      0     1     0    0         0\n",
       "4      1     0     0    0         0"
      ]
     },
     "execution_count": 139,
     "metadata": {},
     "output_type": "execute_result"
    }
   ],
   "source": [
    "y_pandas_df = pd.get_dummies(df['sentiment'])\n",
    "print(type(y_pandas_df))\n",
    "print(y_pandas_df.shape)\n",
    "print(y_pandas_df.ndim)\n",
    "y_pandas_df.head()"
   ]
  },
  {
   "cell_type": "code",
   "execution_count": null,
   "metadata": {},
   "outputs": [],
   "source": []
  },
  {
   "cell_type": "code",
   "execution_count": 140,
   "metadata": {},
   "outputs": [
    {
     "name": "stdout",
     "output_type": "stream",
     "text": [
      "properties of y\n",
      "type : <class 'numpy.ndarray'>, dimensions : 2, shape : (17726, 5), total no. of elements : 88630, data type of each element: uint8, size of each element 1 bytes\n"
     ]
    }
   ],
   "source": [
    "y = y_pandas_df.values\n",
    "print(\"properties of y\")\n",
    "print(\"type : {}, dimensions : {}, shape : {}, total no. of elements : {}, data type of each element: {}, size of each element {} bytes\".format(type(y), y.ndim, y.shape, y.size, y.dtype, y.itemsize))"
   ]
  },
  {
   "cell_type": "code",
   "execution_count": 141,
   "metadata": {},
   "outputs": [],
   "source": [
    "x_train, x_test, y_train, y_test = train_test_split(df,y, random_state=4, test_size=0.2)"
   ]
  },
  {
   "cell_type": "code",
   "execution_count": 142,
   "metadata": {},
   "outputs": [],
   "source": [
    "x_train = x_train.drop(['sentiment'], axis=1)\n",
    "x_test = x_test.drop(['sentiment'], axis=1)"
   ]
  },
  {
   "cell_type": "markdown",
   "metadata": {},
   "source": [
    "Flatten the array from 2D to 1D."
   ]
  },
  {
   "cell_type": "code",
   "execution_count": 143,
   "metadata": {},
   "outputs": [
    {
     "name": "stdout",
     "output_type": "stream",
     "text": [
      "(14180,)\n",
      "(3546,)\n"
     ]
    }
   ],
   "source": [
    "x_train = x_train.values.flatten()\n",
    "print(x_train.shape)\n",
    "x_test = x_test.values.flatten()\n",
    "print(x_test.shape)"
   ]
  },
  {
   "cell_type": "code",
   "execution_count": 144,
   "metadata": {},
   "outputs": [
    {
     "name": "stdout",
     "output_type": "stream",
     "text": [
      "['@clarinette02 I am most honoured to receive a Twit tout en francais. But my French not good enough to pick up les nuances en 140...   LOL'\n",
      " \"Well dinner was disastrous my uncle lashed out at me for no reason he just told me to shut up ! ?? Confused since i wasn't even talking\"\n",
      " 'got back from the party...suprisingly awesome, NEED to dance more often! overall, awesome night'\n",
      " ...\n",
      " \"@R1CC1 that's funny...well, i'll say bye again b/c i'm really THAT delirious...lol... i worked 13 hrs i think...crazy...anyhoo bye lady!\"\n",
      " '@davedays i heard one of your songs, and you have an amazing voice  i was stunned'\n",
      " 'i love monday night lineup  just wish it was over the span of the week. gossip girl - big bang theory - how i met your mother - the hills']\n",
      "properties of x_train\n",
      "type : <class 'numpy.ndarray'>, dimensions : 1, shape : (14180,), total no. of elements : 14180, data type of each element: object, size of each element 8 bytes\n"
     ]
    }
   ],
   "source": [
    "print(x_train)\n",
    "print(\"properties of x_train\")\n",
    "print(\"type : {}, dimensions : {}, shape : {}, total no. of elements : {}, data type of each element: {}, size of each element {} bytes\".format(type(x_train), x_train.ndim, x_train.shape, x_train.size, x_train.dtype, x_train.itemsize))"
   ]
  },
  {
   "cell_type": "code",
   "execution_count": 145,
   "metadata": {},
   "outputs": [
    {
     "name": "stdout",
     "output_type": "stream",
     "text": [
      "['Happy Star Wars Day! .... May the 4th Be with You!'\n",
      " \"@aidadoll he thinks he's a gangsterrr  his ass don't even fit in G Unit. &amp; I know :| )))))\"\n",
      " \"Checking out Ciege Cagalawan's S/S Collection and I am regretting that I did not see his collection tonight  I got invites!\"\n",
      " ...\n",
      " \"Fighting a sore throat.. Few more days hard training then rest next week for Sunday race.. Oooohhh sun's out... Nope.. Gone...\"\n",
      " 'Thinks FML should changed to LML (love my life)' '@SarahJacinta Thanks!']\n",
      "properties of x_test\n",
      "type : <class 'numpy.ndarray'>, dimensions : 1, shape : (3546,), total no. of elements : 3546, data type of each element: object, size of each element 8 bytes\n"
     ]
    }
   ],
   "source": [
    "print(x_test)\n",
    "print(\"properties of x_test\")\n",
    "print(\"type : {}, dimensions : {}, shape : {}, total no. of elements : {}, data type of each element: {}, size of each element {} bytes\".format(type(x_test), x_test.ndim, x_test.shape, x_test.size, x_test.dtype, x_test.itemsize))"
   ]
  },
  {
   "cell_type": "markdown",
   "metadata": {},
   "source": [
    "Necessary Global Variables."
   ]
  },
  {
   "cell_type": "code",
   "execution_count": 146,
   "metadata": {},
   "outputs": [],
   "source": [
    "list_of_classes = ['happiness','sadness','surprise','hate','love']\n",
    "max_features = 20000\n",
    "max_text_length = 400\n",
    "embedding_dims = 50\n",
    "batch_size = 32\n",
    "epochs = 3\n",
    "num_filters_1 = 250\n",
    "num_filters_2 = 250\n",
    "filter_size = 3"
   ]
  },
  {
   "cell_type": "markdown",
   "metadata": {},
   "source": [
    "3.Convert the text into a sequence(list of lists(sequence)), using tokenizer. Pad the sequence to form a 2D numpy array."
   ]
  },
  {
   "cell_type": "code",
   "execution_count": 147,
   "metadata": {},
   "outputs": [],
   "source": [
    "x_tokenizer = text.Tokenizer(num_words=max_features)\n",
    "x_tokenizer.fit_on_texts(list(x_train))\n",
    "x_tokenized = x_tokenizer.texts_to_sequences(x_train)\n",
    "x_train= sequence.pad_sequences(x_tokenized, maxlen=max_text_length)"
   ]
  },
  {
   "cell_type": "markdown",
   "metadata": {},
   "source": [
    "4.Build the Neural Network Model using Keras."
   ]
  },
  {
   "cell_type": "code",
   "execution_count": 32,
   "metadata": {},
   "outputs": [],
   "source": [
    "model = Sequential()\n",
    "\n",
    "model.add(Embedding(max_features, embedding_dims, input_length=max_text_length))\n",
    "model.add(Dropout(0.2))\n",
    "\n",
    "model.add(Conv1D(filters=num_filters_1, kernel_size=filter_size, padding='valid', activation='relu', strides=1))\n",
    "model.add(GlobalMaxPooling1D())\n",
    "\n",
    "model.add(Dense(num_filters_2))\n",
    "model.add(Dropout(0.2))\n",
    "model.add(Activation('relu'))\n",
    "\n",
    "model.add(Dense(5))\n",
    "model.add(Activation('sigmoid'))\n"
   ]
  },
  {
   "cell_type": "markdown",
   "metadata": {},
   "source": [
    "5.Train the model using an optimizer such as 'adam' or 'adagrad' and loss function 'binary_crossentropy'. "
   ]
  },
  {
   "cell_type": "code",
   "execution_count": 33,
   "metadata": {},
   "outputs": [
    {
     "name": "stdout",
     "output_type": "stream",
     "text": [
      "Model: \"sequential\"\n",
      "_________________________________________________________________\n",
      "Layer (type)                 Output Shape              Param #   \n",
      "=================================================================\n",
      "embedding (Embedding)        (None, 400, 50)           1000000   \n",
      "_________________________________________________________________\n",
      "dropout (Dropout)            (None, 400, 50)           0         \n",
      "_________________________________________________________________\n",
      "conv1d (Conv1D)              (None, 398, 250)          37750     \n",
      "_________________________________________________________________\n",
      "global_max_pooling1d (Global (None, 250)               0         \n",
      "_________________________________________________________________\n",
      "dense (Dense)                (None, 250)               62750     \n",
      "_________________________________________________________________\n",
      "dropout_1 (Dropout)          (None, 250)               0         \n",
      "_________________________________________________________________\n",
      "activation (Activation)      (None, 250)               0         \n",
      "_________________________________________________________________\n",
      "dense_1 (Dense)              (None, 5)                 1255      \n",
      "_________________________________________________________________\n",
      "activation_1 (Activation)    (None, 5)                 0         \n",
      "=================================================================\n",
      "Total params: 1,101,755\n",
      "Trainable params: 1,101,755\n",
      "Non-trainable params: 0\n",
      "_________________________________________________________________\n"
     ]
    }
   ],
   "source": [
    "model.compile(optimizer='adam', loss='binary_crossentropy', metrics=['accuracy'])\n",
    "model.summary()"
   ]
  },
  {
   "cell_type": "code",
   "execution_count": 34,
   "metadata": {},
   "outputs": [
    {
     "name": "stdout",
     "output_type": "stream",
     "text": [
      "Train on 14180 samples\n",
      "Epoch 1/3\n",
      "14180/14180 [==============================] - 38s 3ms/sample - loss: 0.4459 - accuracy: 0.8100\n",
      "Epoch 2/3\n",
      "14180/14180 [==============================] - 32s 2ms/sample - loss: 0.3708 - accuracy: 0.8395\n",
      "Epoch 3/3\n",
      "14180/14180 [==============================] - 34s 2ms/sample - loss: 0.3005 - accuracy: 0.8741\n"
     ]
    },
    {
     "data": {
      "text/plain": [
       "<tensorflow.python.keras.callbacks.History at 0x141a9f1d0>"
      ]
     },
     "execution_count": 34,
     "metadata": {},
     "output_type": "execute_result"
    }
   ],
   "source": [
    "model.fit(x_train, y_train, batch_size=batch_size, epochs=epochs)"
   ]
  },
  {
   "cell_type": "code",
   "execution_count": 35,
   "metadata": {},
   "outputs": [],
   "source": [
    "# model.save('emo_class_keras_model.h5')"
   ]
  },
  {
   "cell_type": "markdown",
   "metadata": {},
   "source": [
    "6.Start predicting!"
   ]
  },
  {
   "cell_type": "code",
   "execution_count": 36,
   "metadata": {},
   "outputs": [],
   "source": [
    "from tensorflow.python.keras.models import load_model\n",
    "\n",
    "def predict(test_set):\n",
    "    global x_tokenizer\n",
    "    model2 = load_model('emo_class_keras_model.h5')\n",
    "    #test_df = pd.read_csv(test_set)\n",
    "    #x_test = test_df['comment'].values\n",
    "    x_test_tokenized = x_tokenizer.texts_to_sequences(x_test)\n",
    "    x_testing = sequence.pad_sequences(x_test_tokenized, maxlen=max_text_length)\n",
    "    y_testing = model2.predict(x_testing, verbose = 1)\n",
    "#     sample_submission = pd.read_csv(\"data/submission.csv\")\n",
    "#     sample_submission[list_of_classes] = y_testing\n",
    "#     sample_submission.to_csv(\"solution.csv\", index=False)\n"
   ]
  },
  {
   "cell_type": "code",
   "execution_count": null,
   "metadata": {},
   "outputs": [],
   "source": []
  },
  {
   "cell_type": "code",
   "execution_count": 37,
   "metadata": {},
   "outputs": [
    {
     "name": "stdout",
     "output_type": "stream",
     "text": [
      "14180/14180 [==============================] - 9s 604us/sample\n"
     ]
    }
   ],
   "source": [
    "#x_test_tokenized = x_tokenizer.texts_to_sequences(x_test)\n",
    "x_testing = sequence.pad_sequences(x_tokenized, maxlen=max_text_length)\n",
    "y_testing = model.predict(x_testing, verbose = 1)"
   ]
  },
  {
   "cell_type": "code",
   "execution_count": 38,
   "metadata": {},
   "outputs": [
    {
     "data": {
      "text/plain": [
       "array([[4.45694895e-03, 2.34399453e-01, 6.14977116e-03, 7.60237575e-01,\n",
       "        2.81576458e-02],\n",
       "       [9.24988508e-01, 2.80274544e-03, 2.28902083e-02, 1.29102906e-02,\n",
       "        5.85964844e-02],\n",
       "       [3.57790478e-02, 3.07672948e-04, 9.22248960e-01, 7.70224771e-03,\n",
       "        1.41663775e-02],\n",
       "       ...,\n",
       "       [7.34894693e-01, 1.52379218e-02, 5.83438762e-02, 1.50061846e-01,\n",
       "        1.20455198e-01],\n",
       "       [2.37444155e-02, 4.30695787e-02, 4.41861711e-03, 8.60565305e-01,\n",
       "        3.08787487e-02],\n",
       "       [2.45412737e-01, 1.31901726e-01, 1.55359060e-01, 2.82798380e-01,\n",
       "        3.33234668e-01]], dtype=float32)"
      ]
     },
     "execution_count": 38,
     "metadata": {},
     "output_type": "execute_result"
    }
   ],
   "source": [
    "y_testing"
   ]
  },
  {
   "cell_type": "code",
   "execution_count": 151,
   "metadata": {},
   "outputs": [
    {
     "name": "stdout",
     "output_type": "stream",
     "text": [
      "\r",
      "1/1 [==============================] - 0s 3ms/sample\n"
     ]
    },
    {
     "data": {
      "text/plain": [
       "'hate'"
      ]
     },
     "execution_count": 151,
     "metadata": {},
     "output_type": "execute_result"
    }
   ],
   "source": [
    "string = 'I am upset you so much'\n",
    "test = [string]\n",
    "\n",
    "string_tokenized = x_tokenizer.texts_to_sequences(test)\n",
    "x_testing = sequence.pad_sequences(string_tokenized, maxlen=400)\n",
    "y_testing = model.predict(x_testing, verbose = 1)\n",
    "\n",
    "list_of_classes = ['happiness','sadness','surprise','hate','love']\n",
    "y_class = list_of_classes[y_testing.argmax()]\n",
    "y_class"
   ]
  },
  {
   "cell_type": "code",
   "execution_count": 121,
   "metadata": {},
   "outputs": [],
   "source": [
    "string = 'you must be kidding me'\n",
    "test = [string]"
   ]
  },
  {
   "cell_type": "code",
   "execution_count": 122,
   "metadata": {},
   "outputs": [
    {
     "data": {
      "text/plain": [
       "['you must be kidding me']"
      ]
     },
     "execution_count": 122,
     "metadata": {},
     "output_type": "execute_result"
    }
   ],
   "source": [
    "test"
   ]
  },
  {
   "cell_type": "code",
   "execution_count": 120,
   "metadata": {},
   "outputs": [
    {
     "data": {
      "text/plain": [
       "array([[0, 0, 0, 0, 0, 0, 0, 0, 0, 0, 0, 0, 0, 0, 0, 0, 0, 0, 0, 0, 0, 0,\n",
       "        0, 0, 0, 0, 0, 0, 0, 0, 0, 0, 0, 0, 0, 0, 0, 0, 0, 0, 0, 0, 0, 0,\n",
       "        0, 0, 0, 0, 0, 0, 0, 0, 0, 0, 0, 0, 0, 0, 0, 0, 0, 0, 0, 0, 0, 0,\n",
       "        0, 0, 0, 0, 0, 0, 0, 0, 0, 0, 0, 0, 0, 0, 0, 0, 0, 0, 0, 0, 0, 0,\n",
       "        0, 0, 0, 0, 0, 0, 0, 0, 0, 0, 0, 0, 0, 0, 0, 0, 0, 0, 0, 0, 0, 0,\n",
       "        0, 0, 0, 0, 0, 0, 0, 0, 0, 0, 0, 0, 0, 0, 0, 0, 0, 0, 0, 0, 0, 0,\n",
       "        0, 0, 0, 0, 0, 0, 0, 0, 0, 0, 0, 0, 0, 0, 0, 0, 0, 0, 0, 0, 0, 0,\n",
       "        0, 0, 0, 0, 0, 0, 0, 0, 0, 0, 0, 0, 0, 0, 0, 0, 0, 0, 0, 0, 0, 0,\n",
       "        0, 0, 0, 0, 0, 0, 0, 0, 0, 0, 0, 0, 0, 0, 0, 0, 0, 0, 0, 0, 0, 0,\n",
       "        0, 0, 0, 0, 0, 0, 0, 0, 0, 0, 0, 0, 0, 0, 0, 0, 0, 0, 0, 0, 0, 0,\n",
       "        0, 0, 0, 0, 0, 0, 0, 0, 0, 0, 0, 0, 0, 0, 0, 0, 0, 0, 0, 0, 0, 0,\n",
       "        0, 0, 0, 0, 0, 0, 0, 0, 0, 0, 0, 0, 0, 0, 0, 0, 0, 0, 0, 0, 0, 0,\n",
       "        0, 0, 0, 0, 0, 0, 0, 0, 0, 0, 0, 0, 0, 0, 0, 0, 0, 0, 0, 0, 0, 0,\n",
       "        0, 0, 0, 0, 0, 0, 0, 0, 0, 0, 0, 0, 0, 0, 0, 0, 0, 0, 0, 0, 0, 0,\n",
       "        0, 0, 0, 0, 0, 0, 0, 0, 0, 0, 0, 0, 0, 0, 0, 0, 0, 0, 0, 0, 0, 0,\n",
       "        0, 0, 0, 0, 0, 0, 0, 0, 0, 0, 0, 0, 0, 0, 0, 0, 0, 0, 0, 0, 0, 0,\n",
       "        0, 0, 0, 0, 0, 0, 0, 0, 0, 0, 0, 0, 0, 0, 0, 0, 0, 0, 0, 0, 0, 0,\n",
       "        0, 0, 0, 0, 0, 0, 0, 0, 0, 0, 0, 0, 0, 0, 0, 0, 0, 0, 0, 0, 0, 0,\n",
       "        0, 0, 0, 0]], dtype=int32)"
      ]
     },
     "execution_count": 120,
     "metadata": {},
     "output_type": "execute_result"
    }
   ],
   "source": [
    "x_testing"
   ]
  },
  {
   "cell_type": "code",
   "execution_count": 110,
   "metadata": {
    "scrolled": true
   },
   "outputs": [
    {
     "data": {
      "text/plain": [
       "array([[0.26367304, 0.16287668, 0.18353966, 0.29460877, 0.3536721 ]],\n",
       "      dtype=float32)"
      ]
     },
     "execution_count": 110,
     "metadata": {},
     "output_type": "execute_result"
    }
   ],
   "source": [
    "y_testing"
   ]
  },
  {
   "cell_type": "code",
   "execution_count": 111,
   "metadata": {},
   "outputs": [
    {
     "data": {
      "text/plain": [
       "4"
      ]
     },
     "execution_count": 111,
     "metadata": {},
     "output_type": "execute_result"
    }
   ],
   "source": [
    "y_testing.argmax()"
   ]
  },
  {
   "cell_type": "code",
   "execution_count": 112,
   "metadata": {},
   "outputs": [],
   "source": [
    "list_of_classes = ['happiness','sadness','surprise','hate','love']"
   ]
  },
  {
   "cell_type": "code",
   "execution_count": 116,
   "metadata": {},
   "outputs": [],
   "source": [
    "y_class = list_of_classes[y_testing.argmax()]"
   ]
  },
  {
   "cell_type": "code",
   "execution_count": 117,
   "metadata": {},
   "outputs": [
    {
     "data": {
      "text/plain": [
       "'love'"
      ]
     },
     "execution_count": 117,
     "metadata": {},
     "output_type": "execute_result"
    }
   ],
   "source": [
    "y_class"
   ]
  },
  {
   "cell_type": "code",
   "execution_count": 148,
   "metadata": {},
   "outputs": [],
   "source": [
    "import os\n",
    "path=\"static/img\"\n",
    "filelist = os.listdir(path)"
   ]
  },
  {
   "cell_type": "code",
   "execution_count": 149,
   "metadata": {
    "scrolled": false
   },
   "outputs": [
    {
     "data": {
      "text/plain": [
       "['Doraemon,Brrr.jpg',\n",
       " 'moring.jpg',\n",
       " 'take a rest,rabbit.jpg',\n",
       " 'scared, rabbit, white.jpg',\n",
       " 'are you there,cat,white.jpg']"
      ]
     },
     "execution_count": 149,
     "metadata": {},
     "output_type": "execute_result"
    }
   ],
   "source": [
    "filelist[0:5]"
   ]
  },
  {
   "cell_type": "code",
   "execution_count": 150,
   "metadata": {},
   "outputs": [],
   "source": [
    "res = [sub.replace('sad', 'sadness') for sub in filelist]\n",
    "res = [sub.replace('happy', 'happiness') for sub in res]"
   ]
  },
  {
   "cell_type": "code",
   "execution_count": 151,
   "metadata": {},
   "outputs": [
    {
     "name": "stdout",
     "output_type": "stream",
     "text": [
      "2 static/img/Doraemon,Brrr.jpg ======> static/img/Doraemon,Brrr.jpg\n",
      "3 static/img/moring.jpg ======> static/img/moring.jpg\n",
      "4 static/img/take a rest,rabbit.jpg ======> static/img/take a rest,rabbit.jpg\n",
      "5 static/img/scared, rabbit, white.jpg ======> static/img/scared, rabbit, white.jpg\n",
      "6 static/img/are you there,cat,white.jpg ======> static/img/are you there,cat,white.jpg\n",
      "7 static/img/getting pumped!.jpg ======> static/img/getting pumped!.jpg\n",
      "8 static/img/night,couple.jpg ======> static/img/night,couple.jpg\n",
      "9 static/img/oh,quit flattering me.jpg ======> static/img/oh,quit flattering me.jpg\n",
      "10 static/img/I love you.jpg ======> static/img/I love you.jpg\n",
      "11 static/img/hate,dog,white,2.jpg ======> static/img/hate,dog,white,2.jpg\n",
      "12 static/img/Stitch,dog,blue,cute,thank you.jpg ======> static/img/Stitch,dog,blue,cute,thank you.jpg\n",
      "13 static/img/Newsflash.jpg ======> static/img/Newsflash.jpg\n",
      "14 static/img/shopping,couple2.jpg ======> static/img/shopping,couple2.jpg\n",
      "15 static/img/shudder,scare,bear,rabbit,cute,couple,.jpg ======> static/img/shudder,scare,bear,rabbit,cute,couple,.jpg\n",
      "16 static/img/Stitch,dog,blue,cute,sad,upset,depressed.jpg ======> static/img/Stitch,dog,blue,cute,sadness,upset,depressed.jpg\n",
      "17 static/img/Congratulations,blue bear.jpg ======> static/img/Congratulations,blue bear.jpg\n",
      "18 static/img/Good moring.jpg ======> static/img/Good moring.jpg\n",
      "19 static/img/good job,man.jpg ======> static/img/good job,man.jpg\n",
      "20 static/img/Stitch,dog,blue,cute,happy,aloha,ha.jpg ======> static/img/Stitch,dog,blue,cute,happiness,aloha,ha.jpg\n",
      "21 static/img/sad,dog,white,2.jpg ======> static/img/sadness,dog,white,2.jpg\n",
      "22 static/img/Doraemon,sleep.jpg ======> static/img/Doraemon,sleep.jpg\n",
      "23 static/img/thank you,blue bear.jpg ======> static/img/thank you,blue bear.jpg\n",
      "24 static/img/love,bear,white.jpg ======> static/img/love,bear,white.jpg\n",
      "25 static/img/good job.jpg ======> static/img/good job.jpg\n",
      "26 static/img/Too cute.jpg ======> static/img/Too cute.jpg\n",
      "27 static/img/friend,apology.jpg ======> static/img/friend,apology.jpg\n",
      "28 static/img/yeah,man.jpg ======> static/img/yeah,man.jpg\n",
      "29 static/img/sorry,cry,sad.jpg ======> static/img/sorry,cry,sadness.jpg\n",
      "30 static/img/Good!,blue bear.jpg ======> static/img/Good!,blue bear.jpg\n",
      "31 static/img/surprise,girl,orange.jpg ======> static/img/surprise,girl,orange.jpg\n",
      "32 static/img/stop.jpg ======> static/img/stop.jpg\n",
      "33 static/img/no,bear.jpg ======> static/img/no,bear.jpg\n",
      "34 static/img/you can do it,rabbit.jpg ======> static/img/you can do it,rabbit.jpg\n",
      "35 static/img/it's my pleasure.jpg ======> static/img/it's my pleasure.jpg\n",
      "36 static/img/phew,cat.jpg ======> static/img/phew,cat.jpg\n",
      "37 static/img/ok,boy.jpg ======> static/img/ok,boy.jpg\n",
      "38 static/img/Stitch,dog,blue,cute,?,question,doubt.jpg ======> static/img/Stitch,dog,blue,cute,?,question,doubt.jpg\n",
      "39 static/img/Run for it!.jpg ======> static/img/Run for it!.jpg\n",
      "40 static/img/pokemon,cute,pikachu,hug.jpg ======> static/img/pokemon,cute,pikachu,hug.jpg\n",
      "41 static/img/long day,peigon?.jpg ======> static/img/long day,peigon?.jpg\n",
      "42 static/img/Good night,baby.jpg ======> static/img/Good night,baby.jpg\n",
      "43 static/img/All good,rabbit,white.jpg ======> static/img/All good,rabbit,white.jpg\n",
      "44 static/img/yes,bear.jpg ======> static/img/yes,bear.jpg\n",
      "45 static/img/oopsie!.jpg ======> static/img/oopsie!.jpg\n",
      "46 static/img/No kidding.jpg ======> static/img/No kidding.jpg\n",
      "47 static/img/rock,n,roll.jpg ======> static/img/rock,n,roll.jpg\n",
      "48 static/img/no way,man.jpg ======> static/img/no way,man.jpg\n",
      "49 static/img/love,rabbit,pink.jpg ======> static/img/love,rabbit,pink.jpg\n",
      "50 static/img/thank you,blue.jpg ======> static/img/thank you,blue.jpg\n",
      "51 static/img/I see,blue bear.jpg ======> static/img/I see,blue bear.jpg\n",
      "52 static/img/ok.jpg ======> static/img/ok.jpg\n",
      "53 static/img/surprise,rabbit,white,3.jpg ======> static/img/surprise,rabbit,white,3.jpg\n",
      "54 static/img/sorry,blue bear.jpg ======> static/img/sorry,blue bear.jpg\n",
      "55 static/img/That's right.jpg ======> static/img/That's right.jpg\n",
      "56 static/img/This should do the trick.jpg ======> static/img/This should do the trick.jpg\n",
      "57 static/img/surprise,duck,white,2.jpg ======> static/img/surprise,duck,white,2.jpg\n",
      "58 static/img/tv.jpg ======> static/img/tv.jpg\n",
      "59 static/img/happy,excited,rabbit,white.jpg ======> static/img/happiness,excited,rabbit,white.jpg\n",
      "60 static/img/wonderful,man.jpg ======> static/img/wonderful,man.jpg\n",
      "61 static/img/surprise,dog,green.jpg ======> static/img/surprise,dog,green.jpg\n",
      "62 static/img/I'm hungry,hungry.jpg ======> static/img/I'm hungry,hungry.jpg\n",
      "63 static/img/Stitch,dog,blue,cute,happy,cheer.jpg ======> static/img/Stitch,dog,blue,cute,happiness,cheer.jpg\n",
      "64 static/img/.DS_Store ======> static/img/.DS_Store\n",
      "65 static/img/Hello,rabbit,.jpg ======> static/img/Hello,rabbit,.jpg\n",
      "66 static/img/congrats,dog.jpg ======> static/img/congrats,dog.jpg\n",
      "67 static/img/exactly.jpg ======> static/img/exactly.jpg\n",
      "68 static/img/movie.jpg ======> static/img/movie.jpg\n",
      "69 static/img/ok,dog,white.jpg ======> static/img/ok,dog,white.jpg\n",
      "70 static/img/mail.jpg ======> static/img/mail.jpg\n",
      "71 static/img/maybe a boat will see us.jpg ======> static/img/maybe a boat will see us.jpg\n",
      "72 static/img/thank you,girl.jpg ======> static/img/thank you,girl.jpg\n",
      "73 static/img/hello,boy.jpg ======> static/img/hello,boy.jpg\n",
      "74 static/img/Stitch,dog,blue,cute.jpg ======> static/img/Stitch,dog,blue,cute.jpg\n",
      "75 static/img/they lived happily ever after.jpg ======> static/img/they lived happily ever after.jpg\n",
      "76 static/img/let's do it,man.jpg ======> static/img/let's do it,man.jpg\n",
      "77 static/img/what is this feeling in my chest.jpg ======> static/img/what is this feeling in my chest.jpg\n",
      "78 static/img/fight,tree.jpg ======> static/img/fight,tree.jpg\n",
      "79 static/img/I like her a lot.jpg ======> static/img/I like her a lot.jpg\n",
      "80 static/img/marry.jpg ======> static/img/marry.jpg\n",
      "81 static/img/surprise,rabbit,white,2.jpg ======> static/img/surprise,rabbit,white,2.jpg\n",
      "82 static/img/surprise,dog,blue.jpg ======> static/img/surprise,dog,blue.jpg\n",
      "83 static/img/sleep,zzz.jpg ======> static/img/sleep,zzz.jpg\n",
      "84 static/img/girl,cute,pink,ok.jpg ======> static/img/girl,cute,pink,ok.jpg\n",
      "85 static/img/oho.jpg ======> static/img/oho.jpg\n",
      "86 static/img/girl,cute,pink,no.jpg ======> static/img/girl,cute,pink,no.jpg\n",
      "87 static/img/sand,play,couple.jpg ======> static/img/sand,play,couple.jpg\n",
      "88 static/img/surprise,bear,blue.jpg ======> static/img/surprise,bear,blue.jpg\n",
      "89 static/img/Wht's for dinner.jpg ======> static/img/Wht's for dinner.jpg\n",
      "90 static/img/sad.jpg ======> static/img/sadness.jpg\n",
      "91 static/img/Stitch,dog,blue,cute,face,expression.jpg ======> static/img/Stitch,dog,blue,cute,face,expression.jpg\n",
      "92 static/img/ok,rabbit,white.jpg ======> static/img/ok,rabbit,white.jpg\n",
      "93 static/img/In a hurry.jpg ======> static/img/In a hurry.jpg\n",
      "94 static/img/oh,bear.jpg ======> static/img/oh,bear.jpg\n",
      "95 static/img/good night 2.jpg ======> static/img/good night 2.jpg\n",
      "96 static/img/pokemon,cute,cat,thwap.jpg ======> static/img/pokemon,cute,cat,thwap.jpg\n",
      "97 static/img/love,happy,couple,kiss,cute.jpg ======> static/img/love,happiness,couple,kiss,cute.jpg\n",
      "98 static/img/Take good care,blue bear.jpg ======> static/img/Take good care,blue bear.jpg\n",
      "99 static/img/pokemon,cute.jpg ======> static/img/pokemon,cute.jpg\n",
      "100 static/img/doubt,???.jpg ======> static/img/doubt,???.jpg\n",
      "101 static/img/yay.jpg ======> static/img/yay.jpg\n",
      "102 static/img/pokemon,cute,duck,?,bored,doubt.jpg ======> static/img/pokemon,cute,duck,?,bored,doubt.jpg\n",
      "103 static/img/pokemon,cute,how about that.jpg ======> static/img/pokemon,cute,how about that.jpg\n",
      "104 static/img/got it,salute.jpg ======> static/img/got it,salute.jpg\n",
      "105 static/img/Ta da, cute.jpg ======> static/img/Ta da, cute.jpg\n",
      "106 static/img/happpy, rabbit.jpg ======> static/img/happpy, rabbit.jpg\n",
      "107 static/img/sleep.jpg ======> static/img/sleep.jpg\n",
      "108 static/img/ok, couple,yellow.jpg ======> static/img/ok, couple,yellow.jpg\n",
      "109 static/img/rabbit,white,happy.jpg ======> static/img/rabbit,white,happiness.jpg\n",
      "110 static/img/love,bear,brown.jpg ======> static/img/love,bear,brown.jpg\n",
      "111 static/img/thank you,red,boy.jpg ======> static/img/thank you,red,boy.jpg\n",
      "112 static/img/Good,boy.jpg ======> static/img/Good,boy.jpg\n",
      "113 static/img/cook,love,couple.jpg ======> static/img/cook,love,couple.jpg\n",
      "114 static/img/Stitch,dog,blue,cute,scared.jpg ======> static/img/Stitch,dog,blue,cute,scared.jpg\n",
      "115 static/img/girl,cute,pink,?,doubt,question.jpg ======> static/img/girl,cute,pink,?,doubt,question.jpg\n",
      "116 static/img/excuse me?,man.jpg ======> static/img/excuse me?,man.jpg\n",
      "117 static/img/ok!.jpg ======> static/img/ok!.jpg\n",
      "118 static/img/Doraemon,Got your presents.jpg ======> static/img/Doraemon,Got your presents.jpg\n",
      "119 static/img/Hello, every one,cute,yellow.jpg ======> static/img/Hello, every one,cute,yellow.jpg\n",
      "120 static/img/Good job,rabbit,white.jpg ======> static/img/Good job,rabbit,white.jpg\n",
      "121 static/img/hello,blue bear.jpg ======> static/img/hello,blue bear.jpg\n",
      "122 static/img/Go for it,blue bear.jpg ======> static/img/Go for it,blue bear.jpg\n",
      "123 static/img/Good night,man.jpg ======> static/img/Good night,man.jpg\n",
      "124 static/img/hello,man.jpg ======> static/img/hello,man.jpg\n",
      "125 static/img/Doraemon,come play.jpg ======> static/img/Doraemon,come play.jpg\n",
      "126 static/img/thank you,cat.jpg ======> static/img/thank you,cat.jpg\n",
      "127 static/img/hey,cute.jpg ======> static/img/hey,cute.jpg\n",
      "128 static/img/heeeyyy,hey.jpg ======> static/img/heeeyyy,hey.jpg\n",
      "129 static/img/THere's no way she'd go for me.jpg ======> static/img/THere's no way she'd go for me.jpg\n",
      "130 static/img/call me.jpg ======> static/img/call me.jpg\n",
      "131 static/img/hi,rabbit.jpg ======> static/img/hi,rabbit.jpg\n",
      "132 static/img/angry,rabbit,white.jpg ======> static/img/angry,rabbit,white.jpg\n",
      "133 static/img/come on,cheer,cute.jpg ======> static/img/come on,cheer,cute.jpg\n",
      "134 static/img/I like it, blue bear.jpg ======> static/img/I like it, blue bear.jpg\n",
      "135 static/img/love,man,red.jpg ======> static/img/love,man,red.jpg\n",
      "136 static/img/lonely,sad,bear,white.jpg ======> static/img/lonely,sadness,bear,white.jpg\n",
      "137 static/img/Remember, the future can still be changed. All you have to fo is try.jpg ======> static/img/Remember, the future can still be changed. All you have to fo is try.jpg\n",
      "138 static/img/yes,cat.jpg ======> static/img/yes,cat.jpg\n",
      "139 static/img/appreciated,bear,blue.jpg ======> static/img/appreciated,bear,blue.jpg\n",
      "140 static/img/Doraemon,cool,hot.jpg ======> static/img/Doraemon,cool,hot.jpg\n",
      "141 static/img/hi.jpg ======> static/img/hi.jpg\n",
      "142 static/img/love,girl,pink.jpg ======> static/img/love,girl,pink.jpg\n",
      "143 static/img/tired, tired~.jpg ======> static/img/tired, tired~.jpg\n",
      "144 static/img/hard work,paid off.jpg ======> static/img/hard work,paid off.jpg\n",
      "145 static/img/green,cute,love,happy,excited.jpg ======> static/img/green,cute,love,happiness,excited.jpg\n",
      "146 static/img/happy,rabbit,white,lol.jpg ======> static/img/happiness,rabbit,white,lol.jpg\n",
      "147 static/img/I see,rabbit.jpg ======> static/img/I see,rabbit.jpg\n",
      "148 static/img/good,man.jpg ======> static/img/good,man.jpg\n",
      "149 static/img/sad,rat,brown.jpg ======> static/img/sadness,rat,brown.jpg\n",
      "150 static/img/surprise,dog,white.jpg ======> static/img/surprise,dog,white.jpg\n",
      "151 static/img/selfie,couple.jpg ======> static/img/selfie,couple.jpg\n",
      "152 static/img/ok,blue bear.jpg ======> static/img/ok,blue bear.jpg\n",
      "153 static/img/lol,bear,rabbit,cute,couple,smile,happy.jpg ======> static/img/lol,bear,rabbit,cute,couple,smile,happiness.jpg\n",
      "154 static/img/love,cute,couple2.jpg ======> static/img/love,cute,couple2.jpg\n",
      "155 static/img/Hey!Psst!.jpg ======> static/img/Hey!Psst!.jpg\n",
      "156 static/img/love,cute,couple3.jpg ======> static/img/love,cute,couple3.jpg\n",
      "157 static/img/love,couple,gift.jpg ======> static/img/love,couple,gift.jpg\n",
      "158 static/img/muscle,ok.jpg ======> static/img/muscle,ok.jpg\n",
      "159 static/img/miss u,rabbit.jpg ======> static/img/miss u,rabbit.jpg\n",
      "160 static/img/gagaga.jpg ======> static/img/gagaga.jpg\n",
      "161 static/img/shopping.jpg ======> static/img/shopping.jpg\n",
      "162 static/img/pokemon,pikachu,cute,yellow,pika.jpg ======> static/img/pokemon,pikachu,cute,yellow,pika.jpg\n",
      "163 static/img/gift,couple.jpg ======> static/img/gift,couple.jpg\n",
      "164 static/img/thank you,man.jpg ======> static/img/thank you,man.jpg\n",
      "165 static/img/pasha,take picture,photo.jpg ======> static/img/pasha,take picture,photo.jpg\n",
      "166 static/img/Hey.will you marry me. like right now?.jpg ======> static/img/Hey.will you marry me. like right now?.jpg\n",
      "167 static/img/jealous.jpg ======> static/img/jealous.jpg\n",
      "168 static/img/good night,cat.jpg ======> static/img/good night,cat.jpg\n",
      "169 static/img/goodnight,white,dog.jpg ======> static/img/goodnight,white,dog.jpg\n",
      "170 static/img/oomf,pokemon,cute.jpg ======> static/img/oomf,pokemon,cute.jpg\n",
      "171 static/img/high five.jpg ======> static/img/high five.jpg\n",
      "172 static/img/Stitch,dog,blue,cute,sad,sorry,scared.jpg ======> static/img/Stitch,dog,blue,cute,sadness,sorry,scared.jpg\n",
      "173 static/img/Thanks in advance.jpg ======> static/img/Thanks in advance.jpg\n",
      "174 static/img/rain,cute.jpg ======> static/img/rain,cute.jpg\n",
      "175 static/img/Oh God!.jpg ======> static/img/Oh God!.jpg\n",
      "176 static/img/go!go!.jpg ======> static/img/go!go!.jpg\n",
      "177 static/img/yes,green,cute.jpg ======> static/img/yes,green,cute.jpg\n",
      "178 static/img/she's beautiful.jpg ======> static/img/she's beautiful.jpg\n",
      "179 static/img/lazy,cute.jpg ======> static/img/lazy,cute.jpg\n",
      "180 static/img/sorry.jpg ======> static/img/sorry.jpg\n",
      "181 static/img/no,cat,purple.jpg ======> static/img/no,cat,purple.jpg\n",
      "182 static/img/good morning,cat.jpg ======> static/img/good morning,cat.jpg\n",
      "183 static/img/all right,bear,blue.jpg ======> static/img/all right,bear,blue.jpg\n",
      "184 static/img/marry,ring,rabbit.jpg ======> static/img/marry,ring,rabbit.jpg\n",
      "185 static/img/Doraemon,no.jpg ======> static/img/Doraemon,no.jpg\n",
      "186 static/img/Doraemon,ok.jpg ======> static/img/Doraemon,ok.jpg\n",
      "187 static/img/thank,dog,white.jpg ======> static/img/thank,dog,white.jpg\n",
      "188 static/img/shy,cute.jpg ======> static/img/shy,cute.jpg\n",
      "189 static/img/Stitch,dog,blue,cute,sad,upset2.jpg ======> static/img/Stitch,dog,blue,cute,sadness,upset2.jpg\n",
      "190 static/img/pokemon,cute,pikachu.jpg ======> static/img/pokemon,cute,pikachu.jpg\n",
      "191 static/img/pokemon,cute,hi.jpg ======> static/img/pokemon,cute,hi.jpg\n",
      "192 static/img/Nice to meet you.jpg ======> static/img/Nice to meet you.jpg\n",
      "193 static/img/hmm,angry.jpg ======> static/img/hmm,angry.jpg\n",
      "194 static/img/Doraemon,delicious.jpg ======> static/img/Doraemon,delicious.jpg\n",
      "195 static/img/sorry,bear.jpg ======> static/img/sorry,bear.jpg\n",
      "196 static/img/love beam.jpg ======> static/img/love beam.jpg\n",
      "197 static/img/please,dog.jpg ======> static/img/please,dog.jpg\n",
      "198 static/img/pokemon,cute,pikachu,tail.jpg ======> static/img/pokemon,cute,pikachu,tail.jpg\n",
      "199 static/img/surprise,couple.jpg ======> static/img/surprise,couple.jpg\n",
      "200 static/img/howdy.jpg ======> static/img/howdy.jpg\n",
      "201 static/img/Lunch time.jpg ======> static/img/Lunch time.jpg\n",
      "202 static/img/awesome!.jpg ======> static/img/awesome!.jpg\n",
      "203 static/img/angry,white,rabbit,3.jpg ======> static/img/angry,white,rabbit,3.jpg\n",
      "204 static/img/love,cute,couple4.jpg ======> static/img/love,cute,couple4.jpg\n",
      "205 static/img/yes.jpg ======> static/img/yes.jpg\n",
      "206 static/img/love,cute,couple5.jpg ======> static/img/love,cute,couple5.jpg\n",
      "207 static/img/Stitch,dog,blue,cute,ok.jpg ======> static/img/Stitch,dog,blue,cute,ok.jpg\n",
      "208 static/img/Stitch,dog,blue,cute,sing,dance.jpg ======> static/img/Stitch,dog,blue,cute,sing,dance.jpg\n",
      "209 static/img/surprise,rabbit,white.jpg ======> static/img/surprise,rabbit,white.jpg\n",
      "210 static/img/Sorry,rabbit,cry.jpg ======> static/img/Sorry,rabbit,cry.jpg\n",
      "211 static/img/don't worry,i am here.jpg ======> static/img/don't worry,i am here.jpg\n",
      "212 static/img/surprise,cat,cute.jpg ======> static/img/surprise,cat,cute.jpg\n",
      "213 static/img/hi,man.jpg ======> static/img/hi,man.jpg\n",
      "214 static/img/ipokemon,cute,run.jpg ======> static/img/ipokemon,cute,run.jpg\n",
      "215 static/img/good night,blue bear.jpg ======> static/img/good night,blue bear.jpg\n",
      "216 static/img/ok,man.jpg ======> static/img/ok,man.jpg\n",
      "217 static/img/thanks,love,cute.jpg ======> static/img/thanks,love,cute.jpg\n",
      "218 static/img/Stitch,dog,blue,cute,upset,sad.jpg ======> static/img/Stitch,dog,blue,cute,upset,sadness.jpg\n",
      "219 static/img/Have a nice day,blue bear.jpg ======> static/img/Have a nice day,blue bear.jpg\n",
      "220 static/img/I'll always treasure the time we spent together.jpg ======> static/img/I'll always treasure the time we spent together.jpg\n",
      "221 static/img/singing,love,cute.jpg ======> static/img/singing,love,cute.jpg\n",
      "222 static/img/ok,bold.jpg ======> static/img/ok,bold.jpg\n",
      "223 static/img/hey.jpg ======> static/img/hey.jpg\n",
      "224 static/img/bye bye,rabbit.jpg ======> static/img/bye bye,rabbit.jpg\n",
      "225 static/img/drink.jpg ======> static/img/drink.jpg\n",
      "226 static/img/hello,green,cute.jpg ======> static/img/hello,green,cute.jpg\n",
      "227 static/img/ok,green,cute,happy .jpg ======> static/img/ok,green,cute,happiness .jpg\n",
      "228 static/img/I miss you, blue bear.jpg ======> static/img/I miss you, blue bear.jpg\n",
      "229 static/img/girl,cute,pink,happy.jpg ======> static/img/girl,cute,pink,happiness.jpg\n",
      "230 static/img/Doraemon,sad.jpg ======> static/img/Doraemon,sadness.jpg\n",
      "231 static/img/you can do it.jpg ======> static/img/you can do it.jpg\n",
      "232 static/img/thanks,girls.jpg ======> static/img/thanks,girls.jpg\n",
      "233 static/img/love,red.jpg ======> static/img/love,red.jpg\n",
      "234 static/img/bye,green,cute.jpg ======> static/img/bye,green,cute.jpg\n",
      "235 static/img/On my way!.jpg ======> static/img/On my way!.jpg\n",
      "236 static/img/sad,rabbit,white,2.jpg ======> static/img/sadness,rabbit,white,2.jpg\n",
      "237 static/img/oh yeah.jpg ======> static/img/oh yeah.jpg\n",
      "238 static/img/Stitch,dog,blue,cute,cute.jpg ======> static/img/Stitch,dog,blue,cute,cute.jpg\n",
      "239 static/img/I'm glad,blue bear.jpg ======> static/img/I'm glad,blue bear.jpg\n",
      "240 static/img/anger,monkey,white.jpg ======> static/img/anger,monkey,white.jpg\n",
      "241 static/img/happy,rabbit,white.jpg ======> static/img/happiness,rabbit,white.jpg\n",
      "242 static/img/merci,rabbit,white.jpg ======> static/img/merci,rabbit,white.jpg\n",
      "243 static/img/shopping,couple.jpg ======> static/img/shopping,couple.jpg\n",
      "244 static/img/Can i help you.jpg ======> static/img/Can i help you.jpg\n",
      "245 static/img/oh,really?.jpg ======> static/img/oh,really?.jpg\n",
      "246 static/img/let's play.jpg ======> static/img/let's play.jpg\n",
      "247 static/img/you are helpful.jpg ======> static/img/you are helpful.jpg\n",
      "248 static/img/love,cute,couple.jpg ======> static/img/love,cute,couple.jpg\n",
      "249 static/img/love,girl,red.jpg ======> static/img/love,girl,red.jpg\n",
      "250 static/img/Yes,girl.jpg ======> static/img/Yes,girl.jpg\n",
      "251 static/img/love,bear,brown,2.jpg ======> static/img/love,bear,brown,2.jpg\n",
      "252 static/img/happy,eat,food.jpg ======> static/img/happiness,eat,food.jpg\n",
      "253 static/img/Don't worry.jpg ======> static/img/Don't worry.jpg\n",
      "254 static/img/how are you?.jpg ======> static/img/how are you?.jpg\n",
      "255 static/img/how much longer?.jpg ======> static/img/how much longer?.jpg\n",
      "256 static/img/morning,wake,tired.jpg ======> static/img/morning,wake,tired.jpg\n",
      "257 static/img/like,red,boy.jpg ======> static/img/like,red,boy.jpg\n",
      "258 static/img/Happy birthday,blue bear.jpg ======> static/img/Happy birthday,blue bear.jpg\n",
      "259 static/img/see you,man.jpg ======> static/img/see you,man.jpg\n",
      "260 static/img/hype,cute,rabbit.jpg ======> static/img/hype,cute,rabbit.jpg\n",
      "261 static/img/Bad luck,blue, bear.jpg ======> static/img/Bad luck,blue, bear.jpg\n",
      "262 static/img/I guess even best friends fight sometimes.jpg ======> static/img/I guess even best friends fight sometimes.jpg\n",
      "263 static/img/have a nice day,rabbit.jpg ======> static/img/have a nice day,rabbit.jpg\n",
      "264 static/img/hate,dog,white.jpg ======> static/img/hate,dog,white.jpg\n",
      "265 static/img/wants attention,pokemon,cute,bored.jpg ======> static/img/wants attention,pokemon,cute,bored.jpg\n",
      "266 static/img/love,boy.jpg ======> static/img/love,boy.jpg\n",
      "267 static/img/hit,rabbit,white.jpg ======> static/img/hit,rabbit,white.jpg\n",
      "268 static/img/I just wanted her to be happy.jpg ======> static/img/I just wanted her to be happiness.jpg\n",
      "269 static/img/surprise,rabbit,white,omg.jpg ======> static/img/surprise,rabbit,white,omg.jpg\n",
      "270 static/img/thank you,rat.jpg ======> static/img/thank you,rat.jpg\n",
      "271 static/img/sad,rabbit,white.jpg ======> static/img/sadness,rabbit,white.jpg\n",
      "272 static/img/happy,dog,white.jpg ======> static/img/happiness,dog,white.jpg\n",
      "273 static/img/gogo,cat.jpg ======> static/img/gogo,cat.jpg\n",
      "274 static/img/On my way,rabbit,cute.jpg ======> static/img/On my way,rabbit,cute.jpg\n"
     ]
    },
    {
     "name": "stdout",
     "output_type": "stream",
     "text": [
      "275 static/img/for you.jpg ======> static/img/for you.jpg\n",
      "276 static/img/love,couple2.jpg ======> static/img/love,couple2.jpg\n",
      "277 static/img/Stitch,dog,blue,cute,lazy,off,lay.jpg ======> static/img/Stitch,dog,blue,cute,lazy,off,lay.jpg\n",
      "278 static/img/on my way.jpg ======> static/img/on my way.jpg\n",
      "279 static/img/green,gift,cute.jpg ======> static/img/green,gift,cute.jpg\n",
      "280 static/img/yes,rabbit.jpg ======> static/img/yes,rabbit.jpg\n",
      "281 static/img/sleep,couple,love.jpg ======> static/img/sleep,couple,love.jpg\n",
      "282 static/img/hello,rabbit.jpg ======> static/img/hello,rabbit.jpg\n",
      "283 static/img/of course,dog,white.jpg ======> static/img/of course,dog,white.jpg\n",
      "284 static/img/hey,cat.jpg ======> static/img/hey,cat.jpg\n",
      "285 static/img/Stitch,dog,blue,cute,angry,mad,.jpg ======> static/img/Stitch,dog,blue,cute,angry,mad,.jpg\n",
      "286 static/img/really,man.jpg ======> static/img/really,man.jpg\n",
      "287 static/img/hate,bear.jpg ======> static/img/hate,bear.jpg\n",
      "288 static/img/congrats,bear.jpg ======> static/img/congrats,bear.jpg\n",
      "289 static/img/it's your problem.jpg ======> static/img/it's your problem.jpg\n",
      "290 static/img/when will you be home?.jpg ======> static/img/when will you be home?.jpg\n",
      "291 static/img/love,dog,white.jpg ======> static/img/love,dog,white.jpg\n",
      "292 static/img/whatever,sad.jpg ======> static/img/whatever,sadness.jpg\n",
      "293 static/img/Stitch,dog,blue,cute,scared2.jpg ======> static/img/Stitch,dog,blue,cute,scared2.jpg\n",
      "294 static/img/happy,cute,love.jpg ======> static/img/happiness,cute,love.jpg\n",
      "295 static/img/thank you, bear.jpg ======> static/img/thank you, bear.jpg\n",
      "296 static/img/surprise,duck,white.jpg ======> static/img/surprise,duck,white.jpg\n",
      "297 static/img/rabbit,white,want,cute.jpg ======> static/img/rabbit,white,want,cute.jpg\n",
      "298 static/img/No,noooo!.jpg ======> static/img/No,noooo!.jpg\n",
      "299 static/img/please!!!.jpg ======> static/img/please!!!.jpg\n",
      "300 static/img/Doraemon,heading home.jpg ======> static/img/Doraemon,heading home.jpg\n",
      "301 static/img/fo.jpg ======> static/img/fo.jpg\n",
      "302 static/img/et.jpg ======> static/img/et.jpg\n",
      "303 static/img/Doraemon,rain.jpg ======> static/img/Doraemon,rain.jpg\n",
      "304 static/img/Stitch,dog,blue,cute,naut.jpg ======> static/img/Stitch,dog,blue,cute,naut.jpg\n",
      "305 static/img/Good night.jpg ======> static/img/Good night.jpg\n",
      "306 static/img/love,man,yellow.jpg ======> static/img/love,man,yellow.jpg\n",
      "307 static/img/great,girl.jpg ======> static/img/great,girl.jpg\n",
      "308 static/img/bye,hat,handsome.jpg ======> static/img/bye,hat,handsome.jpg\n",
      "309 static/img/clap,log.jpg ======> static/img/clap,log.jpg\n",
      "310 static/img/pink,sorry.jpg ======> static/img/pink,sorry.jpg\n",
      "311 static/img/call me,girl.jpg ======> static/img/call me,girl.jpg\n",
      "312 static/img/surprise,cat,black,omg.jpg ======> static/img/surprise,cat,black,omg.jpg\n",
      "313 static/img/Stitch,dog,blue,cute,love.jpg ======> static/img/Stitch,dog,blue,cute,love.jpg\n",
      "314 static/img/no,man.jpg ======> static/img/no,man.jpg\n",
      "315 static/img/call me,blue bear.jpg ======> static/img/call me,blue bear.jpg\n",
      "316 static/img/Stitch,dog,blue,cute,love2.jpg ======> static/img/Stitch,dog,blue,cute,love2.jpg\n",
      "317 static/img/pokemon,cute,tired,sleep.jpg ======> static/img/pokemon,cute,tired,sleep.jpg\n",
      "318 static/img/Nope.jpg ======> static/img/Nope.jpg\n",
      "319 static/img/take care.jpg ======> static/img/take care.jpg\n",
      "320 static/img/angry,bear,brown.jpg ======> static/img/angry,bear,brown.jpg\n",
      "321 static/img/Stitch,dog,blue,cute,...,bored.jpg ======> static/img/Stitch,dog,blue,cute,...,bored.jpg\n",
      "322 static/img/hurry up,man.jpg ======> static/img/hurry up,man.jpg\n",
      "323 static/img/love,duck,red.jpg ======> static/img/love,duck,red.jpg\n",
      "324 static/img/why,man.jpg ======> static/img/why,man.jpg\n",
      "325 static/img/sad,cry,cat.jpg ======> static/img/sadness,cry,cat.jpg\n",
      "326 static/img/Morning!.jpg ======> static/img/Morning!.jpg\n",
      "327 static/img/pokemon,cute,fish,bored.jpg ======> static/img/pokemon,cute,fish,bored.jpg\n",
      "328 static/img/happy birthday,stamp.jpg ======> static/img/happiness birthday,stamp.jpg\n",
      "329 static/img/tired.jpg ======> static/img/tired.jpg\n",
      "330 static/img/don't worry. Being smart ways more important than  being handsome, blue .png ======> static/img/don't worry. Being smart ways more important than  being handsome, blue .png\n",
      "331 static/img/pokemon,cute,lick.jpg ======> static/img/pokemon,cute,lick.jpg\n",
      "332 static/img/see you, blue bear.jpg ======> static/img/see you, blue bear.jpg\n",
      "333 static/img/worried.jpg ======> static/img/worried.jpg\n",
      "334 static/img/sleepy,rabbit,white,cute,tired.jpg ======> static/img/sleepy,rabbit,white,cute,tired.jpg\n",
      "335 static/img/thank you,green,happy .jpg ======> static/img/thank you,green,happiness .jpg\n",
      "336 static/img/good job,cat,dog.jpg ======> static/img/good job,cat,dog.jpg\n",
      "337 static/img/rabbit,white,cute,evil,hehe.jpg ======> static/img/rabbit,white,cute,evil,hehe.jpg\n",
      "338 static/img/Totes.jpg ======> static/img/Totes.jpg\n",
      "339 static/img/love,.jpg ======> static/img/love,.jpg\n",
      "340 static/img/great,cat.jpg ======> static/img/great,cat.jpg\n",
      "341 static/img/free time.jpg ======> static/img/free time.jpg\n",
      "342 static/img/Morning,rabbit,white.jpg ======> static/img/Morning,rabbit,white.jpg\n",
      "343 static/img/happy birthday.jpg ======> static/img/happiness birthday.jpg\n",
      "344 static/img/thank you today,blue bear.jpg ======> static/img/thank you today,blue bear.jpg\n",
      "345 static/img/staying in today.jpg ======> static/img/staying in today.jpg\n",
      "346 static/img/pokemon,cute,wake.jpg ======> static/img/pokemon,cute,wake.jpg\n",
      "347 static/img/good,white.jpg ======> static/img/good,white.jpg\n",
      "348 static/img/hahaha,dog.jpg ======> static/img/hahaha,dog.jpg\n",
      "349 static/img/star,expect,green,cute.jpg ======> static/img/star,expect,green,cute.jpg\n",
      "350 static/img/welcome,boy,red.jpg ======> static/img/welcome,boy,red.jpg\n",
      "351 static/img/happy,girl,red.jpg ======> static/img/happiness,girl,red.jpg\n",
      "352 static/img/love,bear,blue.jpg ======> static/img/love,bear,blue.jpg\n",
      "353 static/img/No problem.jpg ======> static/img/No problem.jpg\n",
      "354 static/img/pokemon,cute,good.jpg ======> static/img/pokemon,cute,good.jpg\n",
      "355 static/img/slurp,eat,green,food,cute.jpg ======> static/img/slurp,eat,green,food,cute.jpg\n",
      "356 static/img/have a break.jpg ======> static/img/have a break.jpg\n",
      "357 static/img/love,rabbit,white,2.jpg ======> static/img/love,rabbit,white,2.jpg\n",
      "358 static/img/girl,cute,pink,sing.jpg ======> static/img/girl,cute,pink,sing.jpg\n",
      "359 static/img/love,rabbit,white.jpg ======> static/img/love,rabbit,white.jpg\n",
      "360 static/img/ok2,cute.jpg ======> static/img/ok2,cute.jpg\n",
      "361 static/img/thank you.jpg ======> static/img/thank you.jpg\n",
      "362 static/img/dont listen.jpg ======> static/img/dont listen.jpg\n",
      "363 static/img/sleep,zzz的副本.jpg ======> static/img/sleep,zzz的副本.jpg\n",
      "364 static/img/ok 2, cute.jpg ======> static/img/ok 2, cute.jpg\n",
      "365 static/img/help,ladder.jpg ======> static/img/help,ladder.jpg\n",
      "366 static/img/love,rabbit,white,3.jpg ======> static/img/love,rabbit,white,3.jpg\n",
      "367 static/img/I'm hungry.jpg ======> static/img/I'm hungry.jpg\n",
      "368 static/img/angry,mole,brown.jpg ======> static/img/angry,mole,brown.jpg\n",
      "369 static/img/rain,umbrella.jpg ======> static/img/rain,umbrella.jpg\n",
      "370 static/img/good luck,man.jpg ======> static/img/good luck,man.jpg\n",
      "371 static/img/thanks2, cute.jpg ======> static/img/thanks2, cute.jpg\n",
      "372 static/img/Stitch,dog,blue,cute,smile,happy,haha,lol.jpg ======> static/img/Stitch,dog,blue,cute,smile,happiness,haha,lol.jpg\n",
      "373 static/img/Happy!!.jpg ======> static/img/Happy!!.jpg\n",
      "374 static/img/love,man,blue.jpg ======> static/img/love,man,blue.jpg\n",
      "375 static/img/gogogo.jpg ======> static/img/gogogo.jpg\n",
      "376 static/img/slurp,drink,yellow,cute,duck.jpg ======> static/img/slurp,drink,yellow,cute,duck.jpg\n",
      "377 static/img/angry,duck,white.jpg ======> static/img/angry,duck,white.jpg\n",
      "378 static/img/love u,bear.jpg ======> static/img/love u,bear.jpg\n",
      "379 static/img/please hold.jpg ======> static/img/please hold.jpg\n",
      "380 static/img/pokemon,cute,eat.jpg ======> static/img/pokemon,cute,eat.jpg\n",
      "381 static/img/pokemon,cute,ray.jpg ======> static/img/pokemon,cute,ray.jpg\n",
      "382 static/img/just kidding,joke.jpg ======> static/img/just kidding,joke.jpg\n",
      "383 static/img/ill,couple,love,cute.jpg ======> static/img/ill,couple,love,cute.jpg\n",
      "384 static/img/morning,dog,white.jpg ======> static/img/morning,dog,white.jpg\n",
      "385 static/img/angry,duck,yellow.jpg ======> static/img/angry,duck,yellow.jpg\n",
      "386 static/img/pokemon,cute,strong,fit,good shape,angry,ecercise,sports.jpg ======> static/img/pokemon,cute,strong,fit,good shape,angry,ecercise,sports.jpg\n",
      "387 static/img/cool,man.jpg ======> static/img/cool,man.jpg\n",
      "388 static/img/surprise,bear,brown,omg.jpg ======> static/img/surprise,bear,brown,omg.jpg\n",
      "389 static/img/come on,man.jpg ======> static/img/come on,man.jpg\n",
      "390 static/img/sup?.jpg ======> static/img/sup?.jpg\n",
      "391 static/img/Yes,rabbit,white.jpg ======> static/img/Yes,rabbit,white.jpg\n",
      "392 static/img/let's go.jpg ======> static/img/let's go.jpg\n",
      "393 static/img/no,bold.jpg ======> static/img/no,bold.jpg\n",
      "394 static/img/hehe,act.jpg ======> static/img/hehe,act.jpg\n",
      "395 static/img/Eh heh.jpg ======> static/img/Eh heh.jpg\n",
      "396 static/img/Doraemon,evil.jpg ======> static/img/Doraemon,evil.jpg\n",
      "397 static/img/sorry2.jpg ======> static/img/sorry2.jpg\n",
      "398 static/img/heh-heh,blue bear.jpg ======> static/img/heh-heh,blue bear.jpg\n",
      "399 static/img/happy,yeah,excited.jpg ======> static/img/happiness,yeah,excited.jpg\n",
      "400 static/img/hahah,cat,white.jpg ======> static/img/hahah,cat,white.jpg\n",
      "401 static/img/hurry home.jpg ======> static/img/hurry home.jpg\n",
      "402 static/img/sad,cry,2.jpg ======> static/img/sadness,cry,2.jpg\n",
      "403 static/img/late.jpg ======> static/img/late.jpg\n",
      "404 static/img/ok,dog.jpg ======> static/img/ok,dog.jpg\n",
      "405 static/img/happy,dog,white,3.jpg ======> static/img/happiness,dog,white,3.jpg\n",
      "406 static/img/ok,rabbit.jpg ======> static/img/ok,rabbit.jpg\n",
      "407 static/img/bye,dog,black.jpg ======> static/img/bye,dog,black.jpg\n",
      "408 static/img/here i am,bear,brown.jpg ======> static/img/here i am,bear,brown.jpg\n",
      "409 static/img/love,rabbit,white,4.jpg ======> static/img/love,rabbit,white,4.jpg\n",
      "410 static/img/help,man.jpg ======> static/img/help,man.jpg\n",
      "411 static/img/Stitch,dog,blue,cute,sad,cry.jpg ======> static/img/Stitch,dog,blue,cute,sadness,cry.jpg\n",
      "412 static/img/hi,dog.jpg ======> static/img/hi,dog.jpg\n",
      "413 static/img/surprise,bear,brown.jpg ======> static/img/surprise,bear,brown.jpg\n",
      "414 static/img/no!.jpg ======> static/img/no!.jpg\n",
      "415 static/img/angry,dog,white.jpg ======> static/img/angry,dog,white.jpg\n",
      "416 static/img/thanks,rabbit.jpg ======> static/img/thanks,rabbit.jpg\n",
      "417 static/img/dress,cute.jpg ======> static/img/dress,cute.jpg\n",
      "418 static/img/sad,man,white.jpg ======> static/img/sadness,man,white.jpg\n",
      "419 static/img/I'll wait here,rabbit,brown.jpg ======> static/img/I'll wait here,rabbit,brown.jpg\n",
      "420 static/img/happy,bear,blue.jpg ======> static/img/happiness,bear,blue.jpg\n",
      "421 static/img/bye,grandpa.jpg ======> static/img/bye,grandpa.jpg\n",
      "422 static/img/good grief.jpg ======> static/img/good grief.jpg\n",
      "423 static/img/angry,rabbit,white,2.jpg ======> static/img/angry,rabbit,white,2.jpg\n",
      "424 static/img/pokemon,cute,happy,fasinating.jpg ======> static/img/pokemon,cute,happiness,fasinating.jpg\n",
      "425 static/img/hopeless,look after.jpg ======> static/img/hopeless,look after.jpg\n",
      "426 static/img/i don't wanna.jpg ======> static/img/i don't wanna.jpg\n",
      "427 static/img/Great.jpg ======> static/img/Great.jpg\n",
      "428 static/img/love,rabbit,white,5.jpg ======> static/img/love,rabbit,white,5.jpg\n",
      "429 static/img/happy,dog,white,2.jpg ======> static/img/happiness,dog,white,2.jpg\n",
      "430 static/img/heading home now.jpg ======> static/img/heading home now.jpg\n",
      "431 static/img/Okay!Let's get strated!.jpg ======> static/img/Okay!Let's get strated!.jpg\n",
      "432 static/img/Yes yes, bear,brown.jpg ======> static/img/Yes yes, bear,brown.jpg\n",
      "433 static/img/don't worry,blue bear.jpg ======> static/img/don't worry,blue bear.jpg\n"
     ]
    }
   ],
   "source": [
    "n = 0 \n",
    "for name in filelist:\n",
    "    #original names\n",
    "    oldname= path + os.sep + filelist[n]   \n",
    "    #new names\n",
    "    newname= path + os.sep + res[n]\n",
    "    os.rename(oldname,newname)  \n",
    "    \n",
    "    n+=1\n",
    "    \n",
    "    print(n+1,oldname,'======>',newname)"
   ]
  },
  {
   "cell_type": "code",
   "execution_count": 2,
   "metadata": {},
   "outputs": [],
   "source": [
    "import copy,os\n",
    "path=\"static/img\"\n",
    "label_list = os.listdir(path)\n",
    "img_names = copy.deepcopy(label_list)\n",
    "\n",
    "for index,name in enumerate(label_list):\n",
    "    label_list[index] = name.replace('.jpg', '')\n",
    "    label_list[index] = label_list[index].split(',')\n",
    "\n",
    "dic = {img_names[i]: label_list[i] for i in range(len(img_names))} \n"
   ]
  },
  {
   "cell_type": "code",
   "execution_count": 4,
   "metadata": {},
   "outputs": [
    {
     "name": "stdout",
     "output_type": "stream",
     "text": [
      "sadness\n"
     ]
    },
    {
     "data": {
      "text/plain": [
       "'sadness,man,white.jpg'"
      ]
     },
     "execution_count": 4,
     "metadata": {},
     "output_type": "execute_result"
    }
   ],
   "source": [
    "import random\n",
    "def find_key(input_dict, key_word):\n",
    "    return [key for key, value in input_dict.items() if key_word in value]\n",
    "\n",
    "key_word = input()\n",
    "stickers_name = find_key(dic,key_word)\n",
    "random_sticker_name = random.choice(stickers_name)\n",
    "random_sticker_name"
   ]
  },
  {
   "cell_type": "code",
   "execution_count": null,
   "metadata": {},
   "outputs": [],
   "source": []
  }
 ],
 "metadata": {
  "kernelspec": {
   "display_name": "Python 3",
   "language": "python",
   "name": "python3"
  },
  "language_info": {
   "codemirror_mode": {
    "name": "ipython",
    "version": 3
   },
   "file_extension": ".py",
   "mimetype": "text/x-python",
   "name": "python",
   "nbconvert_exporter": "python",
   "pygments_lexer": "ipython3",
   "version": "3.7.3"
  }
 },
 "nbformat": 4,
 "nbformat_minor": 2
}
